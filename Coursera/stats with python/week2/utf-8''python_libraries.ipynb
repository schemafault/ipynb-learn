{
 "cells": [
  {
   "cell_type": "markdown",
   "metadata": {
    "colab_type": "text",
    "id": "rI9-dSe5he9e"
   },
   "source": [
    "# Python Libraries\n",
    "\n",
    "For this tutorial, we are going to outline the most common uses for each of the following libraries:\n",
    "\n",
    "* **Numpy** is a library for working with arrays of data.\n",
    "\n",
    "* **Scipy** is a library of techniques for numerical and scientific computing.\n",
    "\n",
    "* **Matplotlib** is a library for making visualizations.\n",
    "\n",
    "* **Seaborn** is a higher-level interface to Matplotlib that can be used to simplify many visualization tasks.\n",
    "\n",
    "*__Important__: While this tutorial provides insight into the basics of these libraries,  I recommend digging into the documentation that is available online.*"
   ]
  },
  {
   "cell_type": "markdown",
   "metadata": {
    "colab_type": "text",
    "id": "3jBxP9ZhigUY"
   },
   "source": [
    "## NumPy\n",
    "\n",
    "NumPy is the fundamental package for scientific computing with Python. It contains among other things:\n",
    "\n",
    "* a powerful N-dimensional array object\n",
    "* sophisticated (broadcasting) functions\n",
    "* tools for integrating C/C++ and Fortran code\n",
    "* useful linear algebra, Fourier transform, and random number capabilities\n",
    "\n",
    "We will focus on the numpy array object.\n",
    "\n",
    "#### Numpy Array\n",
    "\n",
    "A numpy array is a grid of values, all of the same type, and is indexed by a tuple of nonnegative integers. The number of dimensions is the rank of the array; the shape of an array is a tuple of integers giving the size of the array along each dimension. "
   ]
  },
  {
   "cell_type": "code",
   "execution_count": 1,
   "metadata": {
    "colab": {},
    "colab_type": "code",
    "id": "3K83K-VAlPn2"
   },
   "outputs": [],
   "source": [
    "import numpy as np"
   ]
  },
  {
   "cell_type": "code",
   "execution_count": 4,
   "metadata": {
    "colab": {},
    "colab_type": "code",
    "id": "ZQTQGd_KlJf2"
   },
   "outputs": [
    {
     "name": "stdout",
     "output_type": "stream",
     "text": [
      "<class 'numpy.ndarray'>\n"
     ]
    }
   ],
   "source": [
    "### Create a 3x1 numpy array\n",
    "a = np.array([1,2,3])\n",
    "### Print object type\n",
    "print(type(a))\n",
    "\n",
    "### Print shape\n",
    "print(a.shape)\n",
    "\n",
    "### Print some values in a\n",
    "print(a[0], a[1], a[2])\n",
    "\n",
    "### Create a 2x2 numpy array\n",
    "b = np.array([[1,2],[3,4]])\n",
    "\n",
    "### Print shape\n",
    "print(b.shape)\n",
    "\n",
    "## Print some values in b\n",
    "print(b[0,0], b[0,1], b[1,1])\n",
    "\n",
    "### Create a 3x2 numpy array\n",
    "c = np.array([[1,2],[3,4],[5,6]])\n",
    "\n",
    "### Print shape\n",
    "print(c.shape)\n",
    "\n",
    "### Print some values in c\n",
    "print(c[0,1], c[1,0], c[2,0], c[2,1])\n"
   ]
  },
  {
   "cell_type": "code",
   "execution_count": 0,
   "metadata": {
    "colab": {},
    "colab_type": "code",
    "id": "SKAeIpOUm6oC"
   },
   "outputs": [],
   "source": [
    "### 2x3 zero array \n",
    "d = np.zeros((2,3))\n",
    "\n",
    "print(d)\n",
    "\n",
    "### 4x2 array of ones\n",
    "e = np.ones((4,2))\n",
    "\n",
    "print(e)\n",
    "\n",
    "### 2x2 constant array\n",
    "f = np.full((2,2), 9)\n",
    "\n",
    "print(f)\n",
    "\n",
    "### 3x3 random array\n",
    "g = np.random.random((3,3))\n",
    "\n",
    "print(g)\n"
   ]
  },
  {
   "cell_type": "markdown",
   "metadata": {
    "colab_type": "text",
    "id": "G5MxjOzNpXRf"
   },
   "source": [
    "#### Array Indexing"
   ]
  },
  {
   "cell_type": "code",
   "execution_count": 19,
   "metadata": {
    "colab": {},
    "colab_type": "code",
    "id": "wLqIR_J7pdxE"
   },
   "outputs": [
    {
     "name": "stdout",
     "output_type": "stream",
     "text": [
      "[[ 1  2  3  4]\n",
      " [ 5  6  7  8]\n",
      " [ 9 10 11 12]]\n",
      "[[ 1  2  3  4]\n",
      " [ 5  6  7  8]\n",
      " [ 9 10 11 12]]\n"
     ]
    }
   ],
   "source": [
    "### Create 3x4 array\n",
    "h = np.array([[1,2,3,4,], [5,6,7,8], [9,10,11,12]])\n",
    "\n",
    "print(h)\n",
    "\n",
    "### Slice array to make a 2x2 sub-array\n",
    "i = h[:3, 0:4]\n",
    "\n",
    "print(i)"
   ]
  },
  {
   "cell_type": "code",
   "execution_count": null,
   "metadata": {},
   "outputs": [],
   "source": []
  },
  {
   "cell_type": "code",
   "execution_count": null,
   "metadata": {},
   "outputs": [],
   "source": []
  },
  {
   "cell_type": "code",
   "execution_count": null,
   "metadata": {},
   "outputs": [],
   "source": []
  },
  {
   "cell_type": "code",
   "execution_count": 9,
   "metadata": {},
   "outputs": [
    {
     "name": "stdout",
     "output_type": "stream",
     "text": [
      "[]\n"
     ]
    }
   ],
   "source": [
    "i = h[:1, 1:1]\n",
    "print(i)"
   ]
  },
  {
   "cell_type": "code",
   "execution_count": null,
   "metadata": {},
   "outputs": [],
   "source": []
  },
  {
   "cell_type": "code",
   "execution_count": null,
   "metadata": {},
   "outputs": [],
   "source": []
  },
  {
   "cell_type": "code",
   "execution_count": 0,
   "metadata": {
    "colab": {},
    "colab_type": "code",
    "id": "6eJBCxlyqm6i"
   },
   "outputs": [],
   "source": [
    "print(h[0,1])\n",
    "\n",
    "### Modify the slice\n",
    "i[0,0] = 1738\n",
    "\n",
    "### Print to show how modifying the slice also changes the base object\n",
    "print(h[0,1])"
   ]
  },
  {
   "cell_type": "markdown",
   "metadata": {
    "colab_type": "text",
    "id": "u1CDIqHXtCe5"
   },
   "source": [
    "#### Datatypes in Arrays"
   ]
  },
  {
   "cell_type": "code",
   "execution_count": 0,
   "metadata": {
    "colab": {},
    "colab_type": "code",
    "id": "RumLhraYtGlU"
   },
   "outputs": [],
   "source": [
    "### Integer\n",
    "j = np.array([1, 2])\n",
    "print(j.dtype)  \n",
    "\n",
    "\n",
    "### Float\n",
    "k = np.array([1.0, 2.0])\n",
    "print(k.dtype)         \n",
    "\n",
    "### Force Data Type\n",
    "l = np.array([1.0, 2.0], dtype=np.int64)\n",
    "print(l.dtype)"
   ]
  },
  {
   "cell_type": "markdown",
   "metadata": {
    "colab_type": "text",
    "id": "NMaOi2kStjJ5"
   },
   "source": [
    "#### Array Math\n",
    "\n",
    "Basic mathematical functions operate elementwise on arrays, and are available both as operator overloads and as functions in the numpy module:"
   ]
  },
  {
   "cell_type": "code",
   "execution_count": 0,
   "metadata": {
    "colab": {},
    "colab_type": "code",
    "id": "MjSXIlPetl6q"
   },
   "outputs": [],
   "source": [
    "x = np.array([[1,2],[3,4]], dtype=np.float64)\n",
    "y = np.array([[5,6],[7,8]], dtype=np.float64)\n",
    "\n",
    "# Elementwise sum; both produce the array\n",
    "# [[ 6.0  8.0]\n",
    "#  [10.0 12.0]]\n",
    "print(x + y)\n",
    "print(np.add(x, y))\n",
    "\n",
    "# Elementwise difference; both produce the array\n",
    "# [[-4.0 -4.0]\n",
    "#  [-4.0 -4.0]]\n",
    "print(x - y)\n",
    "print(np.subtract(x, y))\n",
    "\n",
    "# Elementwise product; both produce the array\n",
    "# [[ 5.0 12.0]\n",
    "#  [21.0 32.0]]\n",
    "print(x * y)\n",
    "print(np.multiply(x, y))\n",
    "\n",
    "# Elementwise division; both produce the array\n",
    "# [[ 0.2         0.33333333]\n",
    "#  [ 0.42857143  0.5       ]]\n",
    "print(x / y)\n",
    "print(np.divide(x, y))\n",
    "\n",
    "# Elementwise square root; produces the array\n",
    "# [[ 1.          1.41421356]\n",
    "#  [ 1.73205081  2.        ]]\n",
    "print(np.sqrt(x))"
   ]
  },
  {
   "cell_type": "code",
   "execution_count": 0,
   "metadata": {
    "colab": {},
    "colab_type": "code",
    "id": "gWn0vrZwt-SN"
   },
   "outputs": [],
   "source": [
    "x = np.array([[1,2],[3,4]])\n",
    "\n",
    "### Compute sum of all elements; prints \"10\"\n",
    "print(np.sum(x))\n",
    "\n",
    "### Compute sum of each column; prints \"[4 6]\"\n",
    "print(np.sum(x, axis=0)) \n",
    "\n",
    "### Compute sum of each row; prints \"[3 7]\"\n",
    "print(np.sum(x, axis=1))"
   ]
  },
  {
   "cell_type": "code",
   "execution_count": 0,
   "metadata": {
    "colab": {},
    "colab_type": "code",
    "id": "7HttMbUHuPOP"
   },
   "outputs": [],
   "source": [
    "x = np.array([[1,2],[3,4]])\n",
    "\n",
    "### Compute mean of all elements; prints \"2.5\"\n",
    "print(np.mean(x))\n",
    "\n",
    "### Compute mean of each column; prints \"[2 3]\"\n",
    "print(np.mean(x, axis=0)) \n",
    "\n",
    "### Compute mean of each row; prints \"[1.5 3.5]\"\n",
    "print(np.mean(x, axis=1))"
   ]
  },
  {
   "cell_type": "markdown",
   "metadata": {
    "colab_type": "text",
    "id": "yJfJSSu6uaCT"
   },
   "source": [
    "## SciPy\n",
    "\n",
    "Numpy provides a high-performance multidimensional array and basic tools to compute with and manipulate these arrays. SciPy builds on this, and provides a large number of functions that operate on numpy arrays and are useful for different types of scientific and engineering applications.\n",
    "\n",
    "For this course, we will primariyl be using the **SciPy.Stats** sub-library.\n",
    "\n",
    "### SciPy.Stats\n",
    "\n",
    "The SciPy.Stats module contains a large number of probability distributions as well as a growing library of statistical functions such as:\n",
    "\n",
    "* Continuous and Discrete Distributions (i.e Normal, Uniform, Binomial, etc.)\n",
    "\n",
    "* Descriptive Statistcs\n",
    "\n",
    "* Statistical Tests (i.e T-Test)"
   ]
  },
  {
   "cell_type": "code",
   "execution_count": 20,
   "metadata": {
    "colab": {},
    "colab_type": "code",
    "id": "WU4IDn3rxRqH"
   },
   "outputs": [],
   "source": [
    "from scipy import stats\n",
    "import numpy as np"
   ]
  },
  {
   "cell_type": "code",
   "execution_count": 25,
   "metadata": {
    "colab": {},
    "colab_type": "code",
    "id": "bglGZ0nhxSNz"
   },
   "outputs": [
    {
     "name": "stdout",
     "output_type": "stream",
     "text": [
      "[4.05719734e-01 7.85309575e-01 8.38555543e-01 4.40027377e-01\n",
      " 2.42247887e-01 1.09251638e-01 9.59980187e-01 4.68541761e-01\n",
      " 2.93558760e-01 1.55659839e-02 9.16087242e-01 9.15212093e-01\n",
      " 4.51111209e-01 8.76395232e-01 2.36672898e-01 5.83124796e-01\n",
      " 6.75837964e-01 5.63663966e-01 6.52717303e-01 3.30652695e-01\n",
      " 8.31431885e-01 7.76808881e-01 9.29076764e-01 7.31771978e-01\n",
      " 7.45865837e-01 8.83901541e-01 5.47677413e-01 7.10999683e-01\n",
      " 5.34152017e-01 5.16397133e-01 4.57115100e-01 4.74385286e-01\n",
      " 5.71415823e-01 8.95652255e-01 7.82551259e-01 8.11256702e-01\n",
      " 8.30643600e-02 9.25635172e-01 3.38953806e-01 1.21102679e-01\n",
      " 6.47351009e-01 8.32720842e-01 7.04966904e-01 4.18212271e-02\n",
      " 3.29345578e-01 7.27103644e-01 6.02417152e-01 7.33936490e-04\n",
      " 7.98893331e-01 7.88522331e-01 7.47643773e-02 1.02867423e-01\n",
      " 7.91306893e-01 6.56877280e-02 8.07899130e-01 2.03443686e-01\n",
      " 8.28009325e-01 2.77187929e-02 6.53294965e-01 2.61862849e-01\n",
      " 1.91533821e-01 2.96906867e-01 3.04682488e-02 8.46828296e-01\n",
      " 3.84848236e-01 6.43905279e-01 4.01817028e-01 6.84973521e-01\n",
      " 7.19571530e-01 5.06897046e-01 6.67225753e-01 8.52305615e-02\n",
      " 9.89713895e-01 8.16757383e-01 5.49268558e-01 3.69254170e-01\n",
      " 7.86934973e-01 9.70216713e-01 2.96579967e-01 5.77756403e-02\n",
      " 4.58724352e-01 9.98231917e-02 1.33891954e-01 9.53404600e-01\n",
      " 9.89842040e-01 3.64916262e-01 8.83103594e-01 7.53438134e-01\n",
      " 6.33273899e-01 9.75756515e-01 3.55358893e-01 9.92139905e-02\n",
      " 6.75404814e-01 7.60062121e-01 8.03279207e-01 5.65966610e-01\n",
      " 2.86686537e-01 9.61275075e-01 5.82795658e-02 8.67083113e-01\n",
      " 7.43291030e-02 6.27771859e-01 1.65032135e-01 6.93112543e-01\n",
      " 8.66683845e-01 2.77868720e-01 7.09281421e-01 1.00328559e-01\n",
      " 4.35270242e-01 1.18608894e-01 1.41173832e-01 9.89751265e-01\n",
      " 6.94337863e-01 7.92961264e-01 6.14740287e-01 3.10868500e-01\n",
      " 5.72750719e-01 6.04737336e-01 2.89008780e-01 9.38981888e-01\n",
      " 4.13655530e-01 4.55367081e-02 4.05950386e-01 5.94985842e-01\n",
      " 4.91840973e-01 1.56278214e-02 9.74904248e-01 8.87853517e-01\n",
      " 3.87419888e-01 7.29146312e-01 1.92842575e-01 5.47349658e-01\n",
      " 2.61490958e-01 5.59012599e-01 8.40871672e-01 9.29617104e-01\n",
      " 8.51217004e-01 5.78221927e-02 3.99461676e-01 5.35158620e-01\n",
      " 6.21648271e-01 6.12982031e-01 5.79446423e-01 6.66182065e-01\n",
      " 6.16881774e-01 4.69320976e-01 7.28905999e-01 2.52316096e-01\n",
      " 3.98406896e-01 4.98655721e-01 6.57770061e-01 4.06409950e-01\n",
      " 3.97016614e-01 8.98175099e-01 2.58585075e-01 5.44097159e-02\n",
      " 1.47939828e-02 7.90513919e-01 5.83944307e-01 7.78137198e-01\n",
      " 9.55952055e-01 3.59198104e-01 5.33350134e-01 4.66090797e-02\n",
      " 3.56699633e-01 6.35046222e-01 3.05686911e-01 5.65297808e-01\n",
      " 2.69906523e-02 1.74884115e-01 1.40475814e-01 5.10319254e-01\n",
      " 5.07806060e-01 4.04431070e-01 8.52339438e-01 2.84663193e-01\n",
      " 6.03425662e-01 5.58251358e-01 8.33413861e-01 3.51696668e-01\n",
      " 8.43712339e-02 3.58544408e-01 3.47207415e-01 7.20017818e-01\n",
      " 7.30345532e-01 2.77229241e-01 5.71389775e-01 4.97522568e-01\n",
      " 2.76026003e-01 5.81287669e-01 3.98678432e-01 1.30076189e-01\n",
      " 4.85167996e-01 7.09715895e-01 7.05100097e-01 3.31529522e-01\n",
      " 3.68580619e-01 7.90118932e-02 5.09388265e-01 7.97151007e-01\n",
      " 6.60445673e-01 9.75437094e-01 3.09463897e-02 8.99991345e-01\n",
      " 1.85535674e-03 4.71484151e-01 1.15142985e-01 4.20396294e-01\n",
      " 5.21159190e-01 4.07915463e-01 5.16465647e-01 8.66286930e-01\n",
      " 3.53781132e-01 8.12869839e-01 6.69773718e-01 2.22189253e-01\n",
      " 4.55234464e-01 5.95958920e-01 6.61883693e-02 2.73122230e-01\n",
      " 6.01787729e-01 3.54446790e-01 6.55083961e-01 6.92574886e-01\n",
      " 9.97576086e-01 6.80188201e-01 5.98813800e-01 8.34531443e-01\n",
      " 2.44849337e-01 6.01859558e-01 3.28086741e-01 7.58943659e-01\n",
      " 4.76040523e-01 9.50999151e-01 3.55376696e-01 8.49150003e-01\n",
      " 4.11048639e-01 5.68915741e-01 4.16141494e-01 8.07271968e-01\n",
      " 8.33392000e-01 6.20839074e-02 6.10318387e-01 9.73524599e-01\n",
      " 5.09886319e-01 5.90678792e-01 6.11244530e-01 1.89605166e-01\n",
      " 1.19903155e-01 6.95451293e-01 5.93182485e-01 5.22948357e-01\n",
      " 9.73473627e-01 5.67119996e-01 6.93672566e-01 2.98820060e-01\n",
      " 8.92503361e-01 7.45094171e-01 3.18170572e-02 3.75128658e-01\n",
      " 7.65179953e-01 5.02817141e-01 4.05848705e-01 1.07818471e-01\n",
      " 8.56090646e-01 9.17553643e-01 6.88153700e-01 4.07726784e-02\n",
      " 3.18248516e-01 5.49663746e-01 3.29463249e-01 2.81674063e-02\n",
      " 1.04780025e-01 4.57078429e-02 6.39293891e-01 2.38832800e-01\n",
      " 8.71164564e-02 6.32950417e-01 2.50432535e-01 8.83494796e-02\n",
      " 6.02659861e-01 2.06279629e-01 4.89369201e-01 1.48875232e-02\n",
      " 4.01087475e-01 4.16593559e-01 6.23141376e-01 5.47742311e-01\n",
      " 6.68642417e-01 3.11751145e-01 3.00369303e-01 8.59321866e-01\n",
      " 6.53934602e-01 2.96671073e-01 2.74903605e-01 2.82633626e-01\n",
      " 8.54122473e-01 6.78199385e-03 3.09868896e-01 3.32587003e-01\n",
      " 4.80485133e-02 2.75082060e-01 5.60930904e-01 2.52177427e-01\n",
      " 6.21636013e-01 2.40277432e-02 4.29498021e-01 7.38319889e-01\n",
      " 3.61063363e-01 7.56607371e-01 1.01461488e-01 3.42345633e-01\n",
      " 8.41908311e-01 5.24854086e-01 5.34128727e-01 7.59738804e-01\n",
      " 6.52669858e-01 1.30703578e-01 1.44992671e-01 2.20912006e-02\n",
      " 6.43628563e-01 1.97078822e-01 1.89609199e-01 2.77188175e-01\n",
      " 8.89456966e-01 4.32574804e-01 9.75477647e-01 1.26591521e-02\n",
      " 5.55616595e-01 3.35599248e-01 8.87192258e-01 3.06320503e-01\n",
      " 6.38637715e-01 4.27003467e-01 5.79939457e-01 4.87980289e-01\n",
      " 8.70549511e-02 7.59427723e-01 2.24181690e-01 9.44165361e-01\n",
      " 1.65856166e-01 8.82120342e-01 5.53652474e-01 5.52832742e-01\n",
      " 7.51942803e-01 6.71438468e-01 3.44332366e-01 1.18708439e-01\n",
      " 9.76789483e-01 6.46252940e-01 2.27781969e-01 1.45753052e-01\n",
      " 1.15975085e-01 4.46920393e-01 2.74747358e-01 7.01879208e-01\n",
      " 7.13158773e-02 7.20377594e-01 8.86813031e-01 3.03072948e-01\n",
      " 7.81089093e-01 3.28191957e-01 6.11267053e-01 8.38963399e-01\n",
      " 3.87759059e-01 5.93558636e-01 3.63629085e-01 3.58674106e-01\n",
      " 9.86297798e-01 3.70223459e-01 6.33399717e-01 5.31572472e-01\n",
      " 9.35138371e-01 1.47994715e-02 5.11091984e-01 9.42001012e-01\n",
      " 5.90651622e-01 4.03772660e-01 7.24939146e-01 3.61036922e-01\n",
      " 1.38676680e-01 3.22442707e-01 6.23933172e-01 1.50880102e-01\n",
      " 8.35749484e-01 1.68563720e-01 6.08715072e-01 7.65398781e-01\n",
      " 7.71750517e-01 2.56156409e-01 1.82928075e-01 2.83884717e-01\n",
      " 7.04241411e-01 8.54195519e-01 1.99392005e-01 9.17498312e-01\n",
      " 1.13230108e-01 2.73426745e-01 8.72241892e-01 8.60411040e-01\n",
      " 5.53039075e-01 1.87850800e-01 3.85000130e-01 7.20110275e-01\n",
      " 4.04412014e-01 5.18496450e-01 5.40013343e-01 9.04403459e-01\n",
      " 2.79718004e-01 3.24567299e-01 2.78311388e-01 5.66569898e-01\n",
      " 9.40206707e-01 7.16510380e-01 2.88719063e-01 1.30335878e-01\n",
      " 8.34502406e-01 6.97849964e-01 9.54564551e-01 3.33228842e-01\n",
      " 2.37619231e-01 8.78899087e-01 7.06329869e-01 1.99314852e-01\n",
      " 3.60019518e-01 3.78416301e-01 7.81005607e-01 5.31458882e-01\n",
      " 2.51914233e-02 8.62101878e-01 2.85786104e-01 7.50067088e-01\n",
      " 3.22516830e-01 7.03376412e-01 4.62153949e-01 8.81892663e-01\n",
      " 3.28578066e-01 5.10961988e-01 1.29022290e-01 3.95563084e-02\n",
      " 4.64270223e-01 2.30437802e-01 4.24634657e-01 1.87137652e-01\n",
      " 9.34650118e-01 2.10470721e-02 7.62398780e-01 4.07832403e-01\n",
      " 5.39450419e-01 6.66384176e-01 2.59841557e-01 1.46133343e-01\n",
      " 9.34978288e-02 7.59252000e-01 6.20936554e-01 4.70361709e-01\n",
      " 2.45640082e-01 9.98113479e-01 3.89893603e-01 8.00380482e-01\n",
      " 6.38916413e-01 6.59858644e-01 5.64202366e-01 8.84436769e-01\n",
      " 3.00904067e-01 2.99899835e-01 6.45177407e-02 2.09676088e-01\n",
      " 8.73482643e-01 8.49948930e-01 5.44121859e-01 6.24562682e-01\n",
      " 4.97453372e-01 3.41120230e-01 9.88231793e-01 4.07203371e-01\n",
      " 8.40852097e-01 3.29393551e-02 6.55907442e-02 7.93161699e-01\n",
      " 6.20674188e-01 1.95985412e-01 6.42900481e-01 6.66924243e-01\n",
      " 1.26949037e-01 1.06654757e-01 3.46820671e-01 1.75765387e-01\n",
      " 3.13157930e-01 3.05847906e-01 7.75515350e-01 6.98526569e-01\n",
      " 6.90608095e-01 5.74983603e-01 9.68498991e-01 2.55219539e-01\n",
      " 3.09569611e-01 7.84119105e-03 3.96358829e-01 4.31897028e-04\n",
      " 1.79322714e-01 2.35418818e-01 9.73179428e-01 3.61994899e-01\n",
      " 5.42024933e-01 8.50880438e-01 7.80642986e-01 9.22807237e-01\n",
      " 3.20241830e-01 1.75457557e-01 2.95948194e-01 8.76289901e-01\n",
      " 7.71523569e-01 2.76153880e-01 6.14315030e-01 7.75192188e-01\n",
      " 2.99815251e-01 8.74352267e-01 9.65175646e-01 6.35008099e-01\n",
      " 4.74468257e-01 2.31356115e-01 6.21289134e-01 2.66854379e-01\n",
      " 1.72331959e-02 7.42778540e-01 1.40991682e-01 2.24468214e-01\n",
      " 5.58187859e-01 2.40484736e-01 5.47052105e-01 7.36820924e-01\n",
      " 8.93103876e-01 1.24497518e-01 9.99675850e-02 7.95910927e-01\n",
      " 4.59884669e-01 4.41446505e-01 5.58982040e-01 4.27441404e-01\n",
      " 4.80579423e-01 1.40776793e-01 4.60527330e-01 7.71100000e-01\n",
      " 8.51166686e-01 8.58068790e-01 7.07311488e-01 4.59961838e-01\n",
      " 1.43518691e-02 7.12808297e-01 1.77455012e-01 7.09032003e-01\n",
      " 6.13297950e-01 6.27146700e-01 9.25307389e-01 8.96906050e-01\n",
      " 3.49106456e-01 4.91529022e-01 6.95308403e-01 2.52716048e-01\n",
      " 9.43718482e-01 3.35884272e-01 4.56109346e-01 6.44816904e-01\n",
      " 8.20994146e-01 4.19893246e-01 8.78708009e-01 2.23513092e-01\n",
      " 6.36050228e-01 6.29376318e-01 5.69991693e-01 6.55516578e-01\n",
      " 2.32279360e-01 3.36049550e-01 8.83566577e-02 7.95444148e-01\n",
      " 7.85786619e-01 7.46559962e-01 2.87073299e-01 2.32331180e-01\n",
      " 8.74191755e-01 1.48570250e-01 1.48460425e-02 7.33545895e-01\n",
      " 8.73253802e-01 8.99339837e-01 6.61172941e-01 8.63094741e-01\n",
      " 5.45175067e-01 2.36416893e-01 7.08260078e-01 8.36267985e-01\n",
      " 2.33932092e-01 2.36809097e-01 3.28828740e-01 5.54647166e-01\n",
      " 8.48793698e-02 5.39485317e-01 3.15572742e-01 8.89895634e-01\n",
      " 3.59710788e-01 1.03790623e-02 4.01068572e-01 1.13382903e-01\n",
      " 1.09426822e-01 8.93781366e-01 6.03519183e-01 8.20367776e-01\n",
      " 7.65614244e-01 3.69479569e-01 5.79562752e-01 4.77943827e-01\n",
      " 6.07788127e-01 1.86540536e-01 9.38437259e-01 8.10959244e-01\n",
      " 8.82308922e-01 8.47147389e-01 2.93806879e-02 9.48244492e-01\n",
      " 9.96402363e-01 3.00317304e-01 5.19755944e-01 1.22149795e-01\n",
      " 1.63578712e-01 6.36612990e-01 5.07332311e-01 2.33630294e-01\n",
      " 4.43757302e-01 8.67792943e-01 2.78668089e-01 8.57197235e-01\n",
      " 8.18794089e-01 2.47212486e-01 4.60291325e-02 7.38200889e-01\n",
      " 8.68433558e-01 7.72630794e-01 1.81001773e-01 1.36836160e-01\n",
      " 8.76707190e-01 2.93357008e-01 7.34534917e-01 9.80766366e-01\n",
      " 6.83413221e-01 2.15866303e-01 7.05892058e-01 1.82679713e-01\n",
      " 4.61921096e-01 5.67820444e-02 2.16790690e-01 8.52350522e-02\n",
      " 7.26076657e-01 1.33110209e-01 9.76527964e-01 7.04960982e-01\n",
      " 1.76330704e-01 1.31668176e-01 4.86097924e-01 3.25943134e-01\n",
      " 8.14455966e-01 9.71098152e-01 9.65447266e-01 7.85129181e-01\n",
      " 6.74804416e-01 3.89494877e-01 2.49582392e-01 1.59890296e-01\n",
      " 6.02481373e-02 8.03155948e-01 9.02746306e-01 1.25347939e-01\n",
      " 9.67389369e-01 3.55911707e-01 4.37196407e-01 8.35468131e-01\n",
      " 2.04599584e-01 5.37045764e-01 8.63322085e-01 1.03967864e-01\n",
      " 4.66294427e-01 1.18892847e-01 2.52197656e-02 9.33929047e-02\n",
      " 1.91855745e-01 3.39277986e-01 5.24834471e-01 3.77544250e-01\n",
      " 6.52871247e-01 6.20251669e-01 9.62737830e-01 6.14998263e-01\n",
      " 9.99131122e-01 5.98710127e-01 8.01072016e-01 3.01418905e-01\n",
      " 7.46083201e-01 4.21399441e-01 3.38699733e-02 4.64049572e-01\n",
      " 5.80693979e-01 4.42211491e-02 5.83542378e-01 5.18912250e-01\n",
      " 4.06069436e-02 9.31161121e-02 4.13033809e-01 2.01527280e-02\n",
      " 3.16937277e-01 5.61975658e-01 9.03413601e-01 1.71366175e-01\n",
      " 1.28420889e-01 7.44802895e-01 7.94221088e-01 4.27896253e-01\n",
      " 8.70142679e-01 3.41457158e-01 7.96400281e-01 7.62570494e-02\n",
      " 1.95996614e-01 7.37728462e-01 6.84682996e-01 8.39563350e-01\n",
      " 6.58381163e-01 2.12963017e-01 9.89659608e-01 4.79587430e-01\n",
      " 2.14269706e-01 9.32956869e-01 5.90687956e-01 7.80010935e-01\n",
      " 2.58952125e-01 2.16498822e-01 4.68752936e-01 2.65859320e-01\n",
      " 1.16612735e-02 1.67048741e-01 8.54145636e-01 5.09978829e-01\n",
      " 1.03719649e-01 6.54231976e-01 6.85962084e-01 8.15652007e-01\n",
      " 7.96288427e-01 8.97527359e-01 7.25995756e-01 9.30342259e-01\n",
      " 6.99114915e-03 2.65299186e-02 6.33966741e-01 6.86542188e-01\n",
      " 6.16118802e-01 3.53367993e-01 7.73660309e-01 6.78836161e-01\n",
      " 6.68214228e-01 5.57679083e-01 8.76496344e-01 9.08587974e-01\n",
      " 9.45911188e-01 1.35206439e-01 9.20624527e-01 9.76755519e-01\n",
      " 5.12261210e-01 9.87773929e-01 5.80605372e-01 3.41578124e-01\n",
      " 6.93126986e-01 2.27553680e-01 1.71777388e-01 2.97192008e-01\n",
      " 1.91446525e-01 6.15179949e-01 5.53785614e-01 1.27772038e-01\n",
      " 5.83582084e-01 3.57930734e-01 9.67436214e-01 7.68351436e-01\n",
      " 6.48500954e-01 6.69937054e-01 3.99698737e-01 6.35527340e-01\n",
      " 8.62269179e-01 7.85256027e-01 4.15691907e-01 9.90863562e-01\n",
      " 9.95588307e-01 1.16475627e-01 9.85853647e-01 6.15987592e-01\n",
      " 1.41580249e-01 9.40628467e-01 1.42642512e-01 7.89288181e-01\n",
      " 4.22991279e-02 9.59477815e-01 9.86236679e-01 4.65830579e-01\n",
      " 1.14066535e-01 9.65679993e-01 9.63757836e-01 3.33262055e-01\n",
      " 7.02689171e-03 2.09118960e-01 2.32167823e-01 9.95024077e-01\n",
      " 8.50846709e-01 4.36796180e-01 8.80459190e-01 5.80358787e-01\n",
      " 8.49311384e-01 8.48485184e-01 5.92047845e-01 6.99644277e-01\n",
      " 7.02714070e-01 3.11804719e-01 4.70814148e-02 4.07336624e-01\n",
      " 9.67512663e-01 4.05781066e-01 6.23952448e-01 4.59645343e-01\n",
      " 5.59672308e-01 9.18907504e-01 9.39651491e-01 7.51683173e-01\n",
      " 6.31753493e-01 4.46890865e-01 3.42448056e-01 5.43173391e-01\n",
      " 5.59780910e-01 6.38245558e-02 1.71693736e-01 6.70544422e-01\n",
      " 7.29905723e-01 1.55385726e-01 4.05037653e-01 5.62020700e-01\n",
      " 3.00966884e-01 5.71602033e-01 2.42507172e-01 2.97544641e-01\n",
      " 9.18726079e-01 6.21282662e-01 7.76832893e-01 3.82737786e-01\n",
      " 5.68872302e-01 5.06020223e-01 2.71275420e-01 2.07158844e-01\n",
      " 2.12394299e-01 3.87882008e-01 7.11239649e-01 4.10934437e-01\n",
      " 9.30077166e-01 8.12924958e-01 2.66255738e-01 5.78704325e-01\n",
      " 3.19752866e-01 7.08171267e-01 3.88408729e-01 8.39446671e-01\n",
      " 2.74562273e-01 4.95095013e-01 1.94313792e-01 6.29094679e-01\n",
      " 8.65088079e-01 7.85828997e-01 1.45294519e-01 9.74576306e-01\n",
      " 7.26699297e-01 9.30186865e-01 6.63266007e-01 9.53409740e-01\n",
      " 1.60177391e-01 2.64288141e-01 6.92848564e-01 4.91033451e-01\n",
      " 8.74945241e-01 9.50012544e-02 8.79127603e-01 9.48033965e-01\n",
      " 9.99734465e-01 9.76584216e-01 9.48978155e-02 6.00392785e-01\n",
      " 6.42464027e-01 3.54573950e-01 2.97252923e-01 8.88362981e-01\n",
      " 2.79702941e-01 3.69382621e-01 1.83699895e-01 9.97625813e-01\n",
      " 5.03090894e-01 5.17098274e-01 5.82746923e-01 3.95598840e-01\n",
      " 7.79776152e-01 3.16675174e-01 4.92592553e-01 4.44073595e-01\n",
      " 3.97789050e-01 5.54449276e-01 3.08979465e-01 3.51543127e-01\n",
      " 1.57511295e-01 2.77588718e-01 2.34678482e-01 1.60156224e-01\n",
      " 1.90903263e-01 3.17762716e-01 9.72544614e-01 6.23093071e-01\n",
      " 7.24841790e-01 8.46433661e-01 1.44764389e-01 8.10477528e-02\n",
      " 2.75310121e-01 5.91937524e-01 1.68960791e-01 5.82107435e-01\n",
      " 2.90262739e-01 7.60266047e-02 3.37952807e-01 2.20978483e-01\n",
      " 9.36443513e-01 7.66981519e-01 9.14922691e-01 9.19974698e-01\n",
      " 7.66373606e-01 1.08320094e-01 8.58705734e-01 7.94908688e-01\n",
      " 9.07165951e-01 6.74125335e-01 3.61311134e-01 1.34761220e-01\n",
      " 7.14581976e-01 3.78889912e-01 8.15327038e-01 4.83759204e-01\n",
      " 4.57935730e-01 9.28084597e-01 3.23255951e-01 4.29440222e-01\n",
      " 7.44657206e-01 3.08822452e-02 5.12858213e-01 2.47291991e-02\n",
      " 9.32967822e-01 4.37758731e-01 5.33384205e-01 6.06363686e-01\n",
      " 9.94171403e-01 1.20728925e-01 6.11550491e-01 9.30024265e-01\n",
      " 3.62870146e-03 6.51878015e-01 2.72929102e-01 4.10569589e-01\n",
      " 7.69678769e-01 9.30310972e-01 5.18161231e-01 5.32837809e-02\n",
      " 9.51133750e-02 6.48661382e-01 8.59645353e-01 6.61681664e-01\n",
      " 7.41844955e-02 2.83761039e-01 6.00871273e-01 8.75128717e-01\n",
      " 2.34878181e-01 7.17476158e-01 4.20765795e-01 7.91816079e-02\n",
      " 7.99977267e-01 7.89031091e-02 5.97781304e-01 8.83304116e-03\n",
      " 4.98164159e-01 9.85765664e-01 9.05951092e-01 7.71479751e-01\n",
      " 2.94439343e-01 5.14896060e-01 6.78232452e-01 5.54395144e-01\n",
      " 4.29505360e-01 2.99933342e-01 4.23007095e-01 8.71349573e-01\n",
      " 4.85501367e-01 3.72514736e-01 5.06287063e-01 5.30942965e-01]\n"
     ]
    }
   ],
   "source": [
    "### Print Normal Random Variables\n",
    "print(stats.uniform.rvs(size = 1000))"
   ]
  },
  {
   "cell_type": "code",
   "execution_count": 28,
   "metadata": {
    "colab": {},
    "colab_type": "code",
    "id": "jbv47bNHEoDn"
   },
   "outputs": [
    {
     "data": {
      "image/png": "[encoded data removed]",
      "text/plain": [
       "<Figure size 432x288 with 1 Axes>"
      ]
     },
     "metadata": {},
     "output_type": "display_data"
    }
   ],
   "source": [
    "from pylab import *\n",
    "\n",
    "# Create some test data\n",
    "dx = .01\n",
    "X  = np.arange(-2,2,dx)\n",
    "Y  = exp(-X**2)\n",
    "\n",
    "# Normalize the data to a proper PDF\n",
    "Y /= (dx*Y).sum()\n",
    "\n",
    "# Compute the CDF\n",
    "CY = np.cumsum(Y*dx)\n",
    "\n",
    "# Plot both\n",
    "plot(X,Y)\n",
    "plot(X,CY,'r--')\n",
    "\n",
    "show()"
   ]
  },
  {
   "cell_type": "code",
   "execution_count": 27,
   "metadata": {
    "colab": {},
    "colab_type": "code",
    "id": "iZ7OsmRWDs2e"
   },
   "outputs": [
    {
     "name": "stdout",
     "output_type": "stream",
     "text": [
      "[0.84134475 0.15865525 0.5        0.84134475 0.9986501  0.99996833\n",
      " 0.02275013 1.        ]\n"
     ]
    }
   ],
   "source": [
    "### Compute the Normal CDF of certain values.\n",
    "print(stats.norm.cdf(np.array([1,-1., 0, 1, 3, 4, -2, 6])))"
   ]
  },
  {
   "cell_type": "markdown",
   "metadata": {
    "colab_type": "text",
    "id": "hH2Dr9OQFhXg"
   },
   "source": [
    "#### Descriptive Statistics"
   ]
  },
  {
   "cell_type": "code",
   "execution_count": 31,
   "metadata": {
    "colab": {},
    "colab_type": "code",
    "id": "X6pmHJ8LFjO5"
   },
   "outputs": [],
   "source": [
    "np.random.seed(1234)\n",
    "\n",
    "# Generate 1000 Student’s T continuous random variables.\n",
    "x = stats.t.rvs(10, size=1000)"
   ]
  },
  {
   "cell_type": "code",
   "execution_count": 32,
   "metadata": {
    "colab": {},
    "colab_type": "code",
    "id": "jIhbREk8FnHX"
   },
   "outputs": [
    {
     "name": "stdout",
     "output_type": "stream",
     "text": [
      "-3.7081318682862507\n",
      "5.489762351653657\n",
      "0.03301501424446721\n",
      "1.216841589019068\n"
     ]
    },
    {
     "data": {
      "text/plain": [
       "DescribeResult(nobs=1000, minmax=(-3.7081318682862507, 5.489762351653657), mean=0.03301501424446721, variance=1.2180596486677358, skewness=0.017360162164788, kurtosis=0.9792361694613958)"
      ]
     },
     "execution_count": 32,
     "metadata": {},
     "output_type": "execute_result"
    }
   ],
   "source": [
    "# Do some descriptive statistics\n",
    "print(x.min())   # equivalent to np.min(x)\n",
    "\n",
    "print(x.max())   # equivalent to np.max(x)\n",
    "\n",
    "print(x.mean())  # equivalent to np.mean(x)\n",
    "\n",
    "print(x.var())   # equivalent to np.var(x))\n",
    "\n",
    "stats.describe(x)"
   ]
  },
  {
   "cell_type": "markdown",
   "metadata": {
    "colab_type": "text",
    "id": "q7gjLQq3GY8c"
   },
   "source": [
    "Later in the course, we will discuss distributions and statistical tests such as a T-Test.  SciPy has built in functions for these operations."
   ]
  },
  {
   "cell_type": "markdown",
   "metadata": {
    "colab_type": "text",
    "id": "WfAh0w76xSWP"
   },
   "source": [
    "## MatPlotLib\n",
    "\n",
    "Matplotlib is a plotting library. In this section give a brief introduction to the matplotlib.pyplot module."
   ]
  },
  {
   "cell_type": "code",
   "execution_count": 0,
   "metadata": {
    "colab": {},
    "colab_type": "code",
    "id": "A3sWS5S8xdjh"
   },
   "outputs": [],
   "source": [
    "import numpy as np\n",
    "import matplotlib.pyplot as plt"
   ]
  },
  {
   "cell_type": "code",
   "execution_count": 0,
   "metadata": {
    "colab": {},
    "colab_type": "code",
    "id": "Izsn4gRFxb4A"
   },
   "outputs": [],
   "source": [
    "# Compute the x and y coordinates for points on a sine curve\n",
    "x = np.arange(0, 3 * np.pi, 0.1)\n",
    "y = np.sin(x)\n",
    "\n",
    "# Plot the points using matplotlib\n",
    "plt.plot(x, y)\n",
    "plt.show()  # You must call plt.show() to make graphics appear."
   ]
  },
  {
   "cell_type": "code",
   "execution_count": 0,
   "metadata": {
    "colab": {},
    "colab_type": "code",
    "id": "5QTLLYzWxhCv"
   },
   "outputs": [],
   "source": [
    "# Compute the x and y coordinates for points on sine and cosine curves\n",
    "x = np.arange(0, 3 * np.pi, 0.1)\n",
    "y_sin = np.sin(x)\n",
    "y_cos = np.cos(x)\n",
    "\n",
    "# Plot the points using matplotlib\n",
    "plt.plot(x, y_sin)\n",
    "plt.plot(x, y_cos)\n",
    "plt.xlabel('x axis label')\n",
    "plt.ylabel('y axis label')\n",
    "plt.title('Sine and Cosine')\n",
    "plt.legend(['Sine', 'Cosine'])\n",
    "plt.show()"
   ]
  },
  {
   "cell_type": "markdown",
   "metadata": {
    "colab_type": "text",
    "id": "mivfc7qvxk5k"
   },
   "source": [
    "#### Subplots"
   ]
  },
  {
   "cell_type": "code",
   "execution_count": 0,
   "metadata": {
    "colab": {},
    "colab_type": "code",
    "id": "YsfeH4QSxoZ4"
   },
   "outputs": [],
   "source": [
    "import numpy as np\n",
    "import matplotlib.pyplot as plt\n",
    "\n",
    "# Compute the x and y coordinates for points on sine and cosine curves\n",
    "x = np.arange(0, 3 * np.pi, 0.1)\n",
    "y_sin = np.sin(x)\n",
    "y_cos = np.cos(x)\n",
    "\n",
    "# Set up a subplot grid that has height 2 and width 1,\n",
    "# and set the first such subplot as active.\n",
    "plt.subplot(2, 1, 1)\n",
    "\n",
    "# Make the first plot\n",
    "plt.plot(x, y_sin)\n",
    "plt.title('Sine')\n",
    "\n",
    "# Set the second subplot as active, and make the second plot.\n",
    "plt.subplot(2, 1, 2)\n",
    "plt.plot(x, y_cos)\n",
    "plt.title('Cosine')\n",
    "\n",
    "# Show the figure.\n",
    "plt.show()"
   ]
  },
  {
   "cell_type": "markdown",
   "metadata": {
    "colab_type": "text",
    "id": "BexAudm39FDR"
   },
   "source": [
    "## Seaborn\n",
    "\n",
    "Seaborn is complimentary to Matplotlib and it specifically targets statistical data visualization. But it goes even further than that: Seaborn extends Matplotlib and makes generating visualizations convenient.\n",
    "\n",
    "While Matplotlib is a robust solution for various problems, Seaborn utilizes more concise paramesters for ease-of-use.\n",
    "\n",
    "#### Scatterplots\n",
    "\n"
   ]
  },
  {
   "cell_type": "code",
   "execution_count": 0,
   "metadata": {
    "colab": {},
    "colab_type": "code",
    "id": "90VVVCGO-Xxg"
   },
   "outputs": [],
   "source": [
    "# Import necessary libraries\n",
    "import seaborn as sns\n",
    "import matplotlib.pyplot as plt\n",
    "import pandas as pd\n",
    "\n",
    "# Store the url string that hosts our .csv file\n",
    "url = \"Cartwheeldata.csv\"\n",
    "\n",
    "# Read the .csv file and store it as a pandas Data Frame\n",
    "df = pd.read_csv(url)\n",
    "\n",
    "# Create Scatterplot\n",
    "sns.lmplot(x='Wingspan', y='CWDistance', data=df)\n",
    "\n",
    "plt.show()"
   ]
  },
  {
   "cell_type": "code",
   "execution_count": 0,
   "metadata": {
    "colab": {},
    "colab_type": "code",
    "id": "wrzxtgn5-olI"
   },
   "outputs": [],
   "source": [
    "# Scatterplot arguments\n",
    "sns.lmplot(x='Wingspan', y='CWDistance', data=df,\n",
    "           fit_reg=False, # No regression line\n",
    "           hue='Gender')   # Color by evolution stage\n",
    "\n",
    "plt.show()"
   ]
  },
  {
   "cell_type": "markdown",
   "metadata": {
    "colab_type": "text",
    "id": "OGQzWWMi-80n"
   },
   "source": []
  },
  {
   "cell_type": "code",
   "execution_count": 0,
   "metadata": {
    "colab": {},
    "colab_type": "code",
    "id": "TPKCLQUD9G6G"
   },
   "outputs": [],
   "source": [
    "# Construct Cartwheel distance plot\n",
    "sns.swarmplot(x=\"Gender\", y=\"CWDistance\", data=df)\n",
    "\n",
    "plt.show()"
   ]
  },
  {
   "cell_type": "markdown",
   "metadata": {
    "colab_type": "text",
    "id": "94-D7AEI_Fyl"
   },
   "source": [
    "#### Boxplots"
   ]
  },
  {
   "cell_type": "code",
   "execution_count": 0,
   "metadata": {
    "colab": {},
    "colab_type": "code",
    "id": "kT-VKWiGAyYa"
   },
   "outputs": [],
   "source": [
    "sns.boxplot(data=df.loc[:, [\"Age\", \"Height\", \"Wingspan\", \"CWDistance\", \"Score\"]])\n",
    "\n",
    "plt.show()"
   ]
  },
  {
   "cell_type": "code",
   "execution_count": 0,
   "metadata": {
    "colab": {},
    "colab_type": "code",
    "id": "UsZahu0X_HwC"
   },
   "outputs": [],
   "source": [
    "# Male Boxplot\n",
    "sns.boxplot(data=df.loc[df['Gender'] == 'M', [\"Age\", \"Height\", \"Wingspan\", \"CWDistance\", \"Score\"]])\n",
    "\n",
    "plt.show()"
   ]
  },
  {
   "cell_type": "code",
   "execution_count": 0,
   "metadata": {
    "colab": {},
    "colab_type": "code",
    "id": "XdHWF3vyA0M1"
   },
   "outputs": [],
   "source": [
    "# Female Boxplot\n",
    "sns.boxplot(data=df.loc[df['Gender'] == 'F', [\"Age\", \"Height\", \"Wingspan\", \"CWDistance\", \"Score\"]])\n",
    "\n",
    "plt.show()"
   ]
  },
  {
   "cell_type": "code",
   "execution_count": 0,
   "metadata": {
    "colab": {},
    "colab_type": "code",
    "id": "wi4Qco88BLHQ"
   },
   "outputs": [],
   "source": [
    "# Male Boxplot\n",
    "sns.boxplot(data=df.loc[df['Gender'] == 'M', [\"Score\"]])\n",
    "\n",
    "plt.show()"
   ]
  },
  {
   "cell_type": "code",
   "execution_count": 0,
   "metadata": {
    "colab": {},
    "colab_type": "code",
    "id": "8NjIShaZBL3A"
   },
   "outputs": [],
   "source": [
    "# Female Boxplot\n",
    "sns.boxplot(data=df.loc[df['Gender'] == 'F', [\"Score\"]])\n",
    "\n",
    "plt.show()"
   ]
  },
  {
   "cell_type": "markdown",
   "metadata": {
    "colab_type": "text",
    "id": "ui1yjuY0Bm-H"
   },
   "source": [
    "#### Histogram"
   ]
  },
  {
   "cell_type": "code",
   "execution_count": 0,
   "metadata": {
    "colab": {},
    "colab_type": "code",
    "id": "aJPdjHmHBob4"
   },
   "outputs": [],
   "source": [
    "# Distribution Plot (a.k.a. Histogram)\n",
    "sns.distplot(df.CWDistance)\n",
    "\n",
    "plt.show()"
   ]
  },
  {
   "cell_type": "markdown",
   "metadata": {
    "colab_type": "text",
    "id": "Ens8D4xXBxuN"
   },
   "source": [
    "#### Count Plot"
   ]
  },
  {
   "cell_type": "code",
   "execution_count": 0,
   "metadata": {
    "colab": {},
    "colab_type": "code",
    "id": "HSuc79qqBxQq"
   },
   "outputs": [],
   "source": [
    "# Count Plot (a.k.a. Bar Plot)\n",
    "sns.countplot(x='Gender', data=df)\n",
    " \n",
    "plt.xticks(rotation=-45)\n",
    "\n",
    "plt.show()"
   ]
  }
 ],
 "metadata": {
  "colab": {
   "collapsed_sections": [],
   "name": "Important Python Libraries.ipynb",
   "provenance": [],
   "version": "0.3.2"
  },
  "kernelspec": {
   "display_name": "Python 3",
   "language": "python",
   "name": "python3"
  },
  "language_info": {
   "codemirror_mode": {
    "name": "ipython",
    "version": 3
   },
   "file_extension": ".py",
   "mimetype": "text/x-python",
   "name": "python",
   "nbconvert_exporter": "python",
   "pygments_lexer": "ipython3",
   "version": "3.6.3"
  }
 },
 "nbformat": 4,
 "nbformat_minor": 1
}
